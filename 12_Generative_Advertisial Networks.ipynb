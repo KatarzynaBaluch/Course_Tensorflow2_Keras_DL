{
 "cells": [
  {
   "cell_type": "markdown",
   "id": "included-basement",
   "metadata": {},
   "source": [
    "# 12_Generative_Advertisial Networks"
   ]
  },
  {
   "cell_type": "markdown",
   "id": "fluid-blade",
   "metadata": {},
   "source": [
    "## Creating a GAN - Part One- The Data"
   ]
  },
  {
   "cell_type": "code",
   "execution_count": 15,
   "id": "final-validation",
   "metadata": {},
   "outputs": [],
   "source": [
    "import numpy as np\n",
    "import pandas as pd\n",
    "import matplotlib.pyplot as plt\n",
    "\n",
    "import tensorflow as tf\n",
    "from tensorflow.keras.datasets import mnist"
   ]
  },
  {
   "cell_type": "code",
   "execution_count": 2,
   "id": "infinite-cream",
   "metadata": {},
   "outputs": [],
   "source": [
    "(X_train, y_train), (X_test, y_test)=mnist.load_data()"
   ]
  },
  {
   "cell_type": "code",
   "execution_count": 3,
   "id": "equivalent-house",
   "metadata": {},
   "outputs": [
    {
     "data": {
      "text/plain": [
       "<matplotlib.image.AxesImage at 0x23fe3ecbfc8>"
      ]
     },
     "execution_count": 3,
     "metadata": {},
     "output_type": "execute_result"
    },
    {
     "data": {
      "image/png": "[encoded data removed]",
      "text/plain": [
       "<Figure size 432x288 with 1 Axes>"
      ]
     },
     "metadata": {
      "needs_background": "light"
     },
     "output_type": "display_data"
    }
   ],
   "source": [
    "plt.imshow(X_train[0], cmap='binary')"
   ]
  },
  {
   "cell_type": "code",
   "execution_count": 4,
   "id": "developed-feature",
   "metadata": {},
   "outputs": [
    {
     "data": {
      "text/plain": [
       "(60000, 28, 28)"
      ]
     },
     "execution_count": 4,
     "metadata": {},
     "output_type": "execute_result"
    }
   ],
   "source": [
    "X_train.shape"
   ]
  },
  {
   "cell_type": "code",
   "execution_count": 5,
   "id": "local-ethnic",
   "metadata": {},
   "outputs": [],
   "source": [
    "zeros_train=X_train[y_train==0]\n",
    "zeros_test=X_test[y_test==0]"
   ]
  },
  {
   "cell_type": "markdown",
   "id": "pacific-taylor",
   "metadata": {},
   "source": [
    "## Creating a GAN - Part Two - The Model"
   ]
  },
  {
   "cell_type": "code",
   "execution_count": 60,
   "id": "driving-yacht",
   "metadata": {},
   "outputs": [],
   "source": [
    "from tensorflow.keras.models import Sequential\n",
    "from tensorflow.keras.layers import Dense, Reshape, Flatten"
   ]
  },
  {
   "cell_type": "code",
   "execution_count": 61,
   "id": "stable-ready",
   "metadata": {},
   "outputs": [],
   "source": [
    "discriminator=Sequential()\n",
    "\n",
    "discriminator.add(Flatten(input_shape=[28,28]))\n",
    "\n",
    "discriminator.add(Dense(150, activation='relu'))\n",
    "discriminator.add(Dense(100, activation='relu'))\n",
    "\n",
    "#final output layer\n",
    "discriminator.add(Dense(1, activation='sigmoid')) #one neuron even all numbers - just true/false\n",
    "\n",
    "discriminator.compile(loss='binary_crossentropy', optimizer='adam')"
   ]
  },
  {
   "cell_type": "code",
   "execution_count": 62,
   "id": "exterior-caribbean",
   "metadata": {},
   "outputs": [],
   "source": [
    "# 784 --> 150 -->  *100*   -- 150 --> 784\n",
    "# *30* - coding_size\n",
    "\n",
    "#decoder/generator part: *100*   -- 150 --> 784\n",
    "\n",
    "coding_size=100 \n",
    "generator=Sequential()\n",
    "generator.add(Dense(100, activation='relu', input_shape=[coding_size]))\n",
    "generator.add(Dense(150, activation='relu'))\n",
    "generator.add(Dense(784, activation='relu'))\n",
    "generator.add(Reshape(target_shape=[28,28]))"
   ]
  },
  {
   "cell_type": "code",
   "execution_count": 63,
   "id": "fancy-period",
   "metadata": {},
   "outputs": [],
   "source": [
    "GAN=Sequential([generator, discriminator])"
   ]
  },
  {
   "cell_type": "code",
   "execution_count": 64,
   "id": "extraordinary-upset",
   "metadata": {},
   "outputs": [],
   "source": [
    "discriminator.trainable = False # because it shouldn'b be train during the second phase"
   ]
  },
  {
   "cell_type": "code",
   "execution_count": 65,
   "id": "prepared-drilling",
   "metadata": {},
   "outputs": [],
   "source": [
    "GAN.compile(loss='binary_crossentropy', optimizer='adam')"
   ]
  },
  {
   "cell_type": "code",
   "execution_count": 66,
   "id": "infectious-enzyme",
   "metadata": {},
   "outputs": [],
   "source": [
    "# We dont compile generator because it only train thru full GAN model !!!!!!!!!!!!!!"
   ]
  },
  {
   "cell_type": "markdown",
   "id": "contrary-burlington",
   "metadata": {},
   "source": [
    "##  Creating a GAN - Part Three - Model Training"
   ]
  },
  {
   "cell_type": "code",
   "execution_count": 67,
   "id": "champion-twenty",
   "metadata": {},
   "outputs": [],
   "source": [
    "batch_size=32\n",
    "my_data=zeros_train\n",
    "dataset=tf.data.Dataset.from_tensor_slices(my_data).shuffle(buffer_size=1000)"
   ]
  },
  {
   "cell_type": "code",
   "execution_count": 68,
   "id": "detected-diagram",
   "metadata": {},
   "outputs": [
    {
     "data": {
      "text/plain": [
       "tensorflow.python.data.ops.dataset_ops.ShuffleDataset"
      ]
     },
     "execution_count": 68,
     "metadata": {},
     "output_type": "execute_result"
    }
   ],
   "source": [
    "type(dataset)"
   ]
  },
  {
   "cell_type": "code",
   "execution_count": 69,
   "id": "revolutionary-oxford",
   "metadata": {},
   "outputs": [],
   "source": [
    "#drop last items - if we split all dataset into batches - sth is \"missing\" -drop reminder will drop it\n",
    "\n",
    "dataset=dataset.batch(batch_size=batch_size, drop_remainder=True).prefetch(1)"
   ]
  },
  {
   "cell_type": "code",
   "execution_count": 70,
   "id": "floating-bhutan",
   "metadata": {},
   "outputs": [],
   "source": [
    "epochs=5"
   ]
  },
  {
   "cell_type": "code",
   "execution_count": 71,
   "id": "remarkable-carol",
   "metadata": {},
   "outputs": [
    {
     "data": {
      "text/plain": [
       "<tensorflow.python.keras.engine.sequential.Sequential at 0x23fe638eb48>"
      ]
     },
     "execution_count": 71,
     "metadata": {},
     "output_type": "execute_result"
    }
   ],
   "source": [
    "GAN"
   ]
  },
  {
   "cell_type": "code",
   "execution_count": 72,
   "id": "important-smith",
   "metadata": {},
   "outputs": [
    {
     "data": {
      "text/plain": [
       "[<tensorflow.python.keras.engine.sequential.Sequential at 0x23fe6505dc8>,\n",
       " <tensorflow.python.keras.engine.sequential.Sequential at 0x23fe6445b88>]"
      ]
     },
     "execution_count": 72,
     "metadata": {},
     "output_type": "execute_result"
    }
   ],
   "source": [
    "GAN.layers"
   ]
  },
  {
   "cell_type": "code",
   "execution_count": 73,
   "id": "smooth-survival",
   "metadata": {},
   "outputs": [
    {
     "name": "stdout",
     "output_type": "stream",
     "text": [
      "Model: \"sequential_4\"\n",
      "_________________________________________________________________\n",
      "Layer (type)                 Output Shape              Param #   \n",
      "=================================================================\n",
      "dense_9 (Dense)              (None, 100)               10100     \n",
      "_________________________________________________________________\n",
      "dense_10 (Dense)             (None, 150)               15150     \n",
      "_________________________________________________________________\n",
      "dense_11 (Dense)             (None, 784)               118384    \n",
      "_________________________________________________________________\n",
      "reshape_1 (Reshape)          (None, 28, 28)            0         \n",
      "=================================================================\n",
      "Total params: 143,634\n",
      "Trainable params: 143,634\n",
      "Non-trainable params: 0\n",
      "_________________________________________________________________\n"
     ]
    }
   ],
   "source": [
    "GAN.layers[0].summary()"
   ]
  },
  {
   "cell_type": "code",
   "execution_count": 74,
   "id": "royal-sarah",
   "metadata": {},
   "outputs": [
    {
     "name": "stdout",
     "output_type": "stream",
     "text": [
      "Model: \"sequential_3\"\n",
      "_________________________________________________________________\n",
      "Layer (type)                 Output Shape              Param #   \n",
      "=================================================================\n",
      "flatten_1 (Flatten)          (None, 784)               0         \n",
      "_________________________________________________________________\n",
      "dense_6 (Dense)              (None, 150)               117750    \n",
      "_________________________________________________________________\n",
      "dense_7 (Dense)              (None, 100)               15100     \n",
      "_________________________________________________________________\n",
      "dense_8 (Dense)              (None, 1)                 101       \n",
      "=================================================================\n",
      "Total params: 265,902\n",
      "Trainable params: 132,951\n",
      "Non-trainable params: 132,951\n",
      "_________________________________________________________________\n"
     ]
    }
   ],
   "source": [
    "GAN.layers[1].summary()"
   ]
  },
  {
   "cell_type": "code",
   "execution_count": 75,
   "id": "paperback-honolulu",
   "metadata": {},
   "outputs": [
    {
     "name": "stdout",
     "output_type": "stream",
     "text": [
      "Currently on Epoch 1\n",
      "\tCurrenty on batch number:  100  of  185\n",
      "Currently on Epoch 2\n",
      "\tCurrenty on batch number:  100  of  185\n",
      "Currently on Epoch 3\n",
      "\tCurrenty on batch number:  100  of  185\n",
      "Currently on Epoch 4\n",
      "\tCurrenty on batch number:  100  of  185\n",
      "Currently on Epoch 5\n",
      "\tCurrenty on batch number:  100  of  185\n",
      "Training complete\n"
     ]
    }
   ],
   "source": [
    "generator, discriminator=GAN.layers\n",
    "\n",
    "for epoch in range(epochs):\n",
    "    print(f\"Currently on Epoch {epoch+1}\")\n",
    "    i=0\n",
    "    \n",
    "    for X_batch in dataset:\n",
    "        i=i+1\n",
    "        if i%100==0:\n",
    "            print(f\"\\tCurrently on batch number {i} of {len(my_data)//batch_size}\")\n",
    "            \n",
    "        \n",
    "        #discriminator phase\n",
    "        noise=tf.random.normal(shape=[batch_size, coding_size])\n",
    "        gen_images=generator(noise)\n",
    "        X_fake_vs_real=tf.concat([gen_images, tf.dtypes.cast(X_batch, tf.float32)], axis=0)\n",
    "        \n",
    "        y1=tf.constant([[0.0]]*batch_size+[[1.0]]*batch_size)\n",
    "        discriminator.trainable=True\n",
    "        discriminator.train_on_batch(X_fake_vs_real, y1)\n",
    "        \n",
    "        #train generator\n",
    "        noise=tf.random.normal(shape=[batch_size, coding_size])\n",
    "        y2=tf.constant([[1.0]]*batch_size)\n",
    "        discriminator.trainable=False \n",
    "        \n",
    "        GAN.train_on_batch(noise, y2)\n",
    "        \n",
    "        \n",
    "print('Training complete')"
   ]
  },
  {
   "cell_type": "code",
   "execution_count": 76,
   "id": "polished-activation",
   "metadata": {},
   "outputs": [
    {
     "data": {
      "text/plain": [
       "TensorShape([10, 100])"
      ]
     },
     "execution_count": 76,
     "metadata": {},
     "output_type": "execute_result"
    }
   ],
   "source": [
    "noise=tf.random.normal(shape=[10, coding_size])\n",
    "noise.shape"
   ]
  },
  {
   "cell_type": "code",
   "execution_count": 77,
   "id": "physical-worry",
   "metadata": {},
   "outputs": [
    {
     "data": {
      "text/plain": [
       "<matplotlib.image.AxesImage at 0x23fe6c29208>"
      ]
     },
     "execution_count": 77,
     "metadata": {},
     "output_type": "execute_result"
    },
    {
     "data": {
      "image/png": "[encoded data removed]",
      "text/plain": [
       "<Figure size 864x288 with 1 Axes>"
      ]
     },
     "metadata": {
      "needs_background": "light"
     },
     "output_type": "display_data"
    }
   ],
   "source": [
    "plt.figure(figsize=(12,4))\n",
    "plt.imshow(noise, cmap='binary')"
   ]
  },
  {
   "cell_type": "code",
   "execution_count": 78,
   "id": "younger-correlation",
   "metadata": {},
   "outputs": [
    {
     "data": {
      "text/plain": [
       "TensorShape([10, 28, 28])"
      ]
     },
     "execution_count": 78,
     "metadata": {},
     "output_type": "execute_result"
    }
   ],
   "source": [
    "images=generator(noise)\n",
    "images.shape"
   ]
  },
  {
   "cell_type": "code",
   "execution_count": 79,
   "id": "constant-appendix",
   "metadata": {},
   "outputs": [
    {
     "data": {
      "text/plain": [
       "<matplotlib.image.AxesImage at 0x23fe6c77f88>"
      ]
     },
     "execution_count": 79,
     "metadata": {},
     "output_type": "execute_result"
    },
    {
     "data": {
      "image/png": "[encoded data removed]",
      "text/plain": [
       "<Figure size 432x288 with 1 Axes>"
      ]
     },
     "metadata": {
      "needs_background": "light"
     },
     "output_type": "display_data"
    }
   ],
   "source": [
    "plt.imshow(images[0], cmap='binary')"
   ]
  },
  {
   "cell_type": "code",
   "execution_count": 81,
   "id": "supposed-uncertainty",
   "metadata": {},
   "outputs": [
    {
     "data": {
      "text/plain": [
       "<matplotlib.image.AxesImage at 0x23fe6cdd3c8>"
      ]
     },
     "execution_count": 81,
     "metadata": {},
     "output_type": "execute_result"
    },
    {
     "data": {
      "image/png": "[encoded data removed]",
      "text/plain": [
       "<Figure size 432x288 with 1 Axes>"
      ]
     },
     "metadata": {
      "needs_background": "light"
     },
     "output_type": "display_data"
    }
   ],
   "source": [
    "plt.imshow(images[3], cmap='binary')"
   ]
  },
  {
   "cell_type": "code",
   "execution_count": 82,
   "id": "false-suite",
   "metadata": {},
   "outputs": [],
   "source": [
    "# !!! WARNING _ MODE COLLAPSE - it return almost THE SAME values!"
   ]
  },
  {
   "cell_type": "markdown",
   "id": "capable-border",
   "metadata": {},
   "source": [
    "## DCGAN - Deep Convolutional Generative Adversarial Networks\n"
   ]
  },
  {
   "cell_type": "code",
   "execution_count": null,
   "id": "second-supplier",
   "metadata": {},
   "outputs": [],
   "source": []
  }
 ],
 "metadata": {
  "kernelspec": {
   "display_name": "Python 3",
   "language": "python",
   "name": "python3"
  },
  "language_info": {
   "codemirror_mode": {
    "name": "ipython",
    "version": 3
   },
   "file_extension": ".py",
   "mimetype": "text/x-python",
   "name": "python",
   "nbconvert_exporter": "python",
   "pygments_lexer": "ipython3",
   "version": "3.7.10"
  }
 },
 "nbformat": 4,
 "nbformat_minor": 5
}
